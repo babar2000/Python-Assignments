{
 "cells": [
  {
   "cell_type": "markdown",
   "metadata": {},
   "source": [
    "1. Age Assignments Based on the Riddle"
   ]
  },
  {
   "cell_type": "code",
   "execution_count": 1,
   "metadata": {},
   "outputs": [
    {
     "name": "stdout",
     "output_type": "stream",
     "text": [
      "Anton is 21 years old.\n",
      "Beth is 27 years old.\n",
      "Chen is 47 years old.\n",
      "Drew is 68 years old.\n",
      "Ethan is 47 years old.\n"
     ]
    }
   ],
   "source": [
    "anton_age = 21\n",
    "beth_age = anton_age + 6\n",
    "chen_age = beth_age + 20\n",
    "drew_age = chen_age + anton_age\n",
    "ethan_age = chen_age\n",
    "\n",
    "print(f\"Anton is {anton_age} years old.\")\n",
    "print(f\"Beth is {beth_age} years old.\")\n",
    "print(f\"Chen is {chen_age} years old.\")\n",
    "print(f\"Drew is {drew_age} years old.\")\n",
    "print(f\"Ethan is {ethan_age} years old.\")\n"
   ]
  },
  {
   "cell_type": "markdown",
   "metadata": {},
   "source": [
    "2. Formatted String Interpolation"
   ]
  },
  {
   "cell_type": "code",
   "execution_count": 20,
   "metadata": {},
   "outputs": [
    {
     "name": "stdout",
     "output_type": "stream",
     "text": [
      "Alice is 30 years old and lives in New York.\n"
     ]
    }
   ],
   "source": [
    "name: str = \"Alice\"\n",
    "age: int = 30\n",
    "city: str = \"New York\"\n",
    "\n",
    "sentence = f\"{name} is {age} years old and lives in {city}.\"\n",
    "\n",
    "print(sentence)\n"
   ]
  },
  {
   "cell_type": "markdown",
   "metadata": {},
   "source": [
    "3. String Manipulation"
   ]
  },
  {
   "cell_type": "code",
   "execution_count": 17,
   "metadata": {},
   "outputs": [
    {
     "name": "stdout",
     "output_type": "stream",
     "text": [
      "Hello world\n",
      "HELLO WORLD\n",
      "hello world\n"
     ]
    }
   ],
   "source": [
    "s: str = \"hElLo WoRlD\"\n",
    "\n",
    "capitalized = s.capitalize()\n",
    "\n",
    "uppercase = s.upper()\n",
    "\n",
    "lowercase = s.lower()\n",
    "\n",
    "print(capitalized)\n",
    "print(uppercase)\n",
    "print(lowercase)\n"
   ]
  },
  {
   "cell_type": "markdown",
   "metadata": {},
   "source": [
    "4. Substring Search"
   ]
  },
  {
   "cell_type": "code",
   "execution_count": 19,
   "metadata": {},
   "outputs": [
    {
     "name": "stdout",
     "output_type": "stream",
     "text": [
      "Index of 'fox': 16\n",
      "Occurrences of 'the': 2\n"
     ]
    }
   ],
   "source": [
    "s: str = \"the quick brown fox jumps over the lazy dog\"\n",
    "\n",
    "index_fox = s.find(\"fox\")\n",
    "\n",
    "count_the = s.count(\"the\")\n",
    "\n",
    "print(f\"Index of 'fox': {index_fox}\")\n",
    "print(f\"Occurrences of 'the': {count_the}\")\n"
   ]
  },
  {
   "cell_type": "markdown",
   "metadata": {},
   "source": [
    "5. String Replacement"
   ]
  },
  {
   "cell_type": "code",
   "execution_count": 16,
   "metadata": {},
   "outputs": [
    {
     "name": "stdout",
     "output_type": "stream",
     "text": [
      "I love programming in Java\n"
     ]
    }
   ],
   "source": [
    "s: str = \"I love programming in Python\"\n",
    "\n",
    "replaced_string = s.replace(\"Python\", \"Java\")\n",
    "\n",
    "print(replaced_string)\n"
   ]
  },
  {
   "cell_type": "markdown",
   "metadata": {},
   "source": [
    "6. String Splitting and Joining\n",
    "\n"
   ]
  },
  {
   "cell_type": "code",
   "execution_count": 15,
   "metadata": {},
   "outputs": [
    {
     "name": "stdout",
     "output_type": "stream",
     "text": [
      "['apple', 'banana', 'cherry', 'dates']\n",
      "apple banana cherry dates\n"
     ]
    }
   ],
   "source": [
    "s: str = \"apple,banana,cherry,dates\"\n",
    "\n",
    "split_list = s.split(',')\n",
    "\n",
    "joined_string = ' '.join(split_list)\n",
    "\n",
    "print(split_list)\n",
    "print(joined_string)\n"
   ]
  },
  {
   "cell_type": "markdown",
   "metadata": {},
   "source": [
    "7. String Stripping and Justifying\n",
    "\n"
   ]
  },
  {
   "cell_type": "code",
   "execution_count": 14,
   "metadata": {},
   "outputs": [
    {
     "name": "stdout",
     "output_type": "stream",
     "text": [
      "'Python is fun!'\n",
      "'Python is fun!******'\n",
      "'******Python is fun!'\n"
     ]
    }
   ],
   "source": [
    "s: str = \"   Python is fun!   \"\n",
    "\n",
    "trimmed_string = s.strip()\n",
    "\n",
    "left_justified = trimmed_string.ljust(20, '*')\n",
    "\n",
    "right_justified = trimmed_string.rjust(20, '*')\n",
    "\n",
    "print(f\"'{trimmed_string}'\")\n",
    "print(f\"'{left_justified}'\")\n",
    "print(f\"'{right_justified}'\")\n"
   ]
  },
  {
   "cell_type": "markdown",
   "metadata": {},
   "source": [
    "8. Convert an integer to its binary representation\n",
    "\n"
   ]
  },
  {
   "cell_type": "code",
   "execution_count": 13,
   "metadata": {},
   "outputs": [
    {
     "name": "stdout",
     "output_type": "stream",
     "text": [
      "0b101101\n"
     ]
    }
   ],
   "source": [
    "num: int = 45\n",
    "\n",
    "binary_representation = bin(num)\n",
    "\n",
    "print(binary_representation)\n"
   ]
  },
  {
   "cell_type": "markdown",
   "metadata": {},
   "source": [
    "9. Calculate Powers of Numbers.\n",
    "\n"
   ]
  },
  {
   "cell_type": "code",
   "execution_count": 12,
   "metadata": {},
   "outputs": [
    {
     "name": "stdout",
     "output_type": "stream",
     "text": [
      "Power result: 81\n"
     ]
    }
   ],
   "source": [
    "base: int = 3\n",
    "exponent: int = 4\n",
    "\n",
    "result = base ** exponent\n",
    "\n",
    "print(f\"Power result: {result}\")"
   ]
  },
  {
   "cell_type": "markdown",
   "metadata": {},
   "source": [
    "10. Round floating-point numbers\n",
    "\n"
   ]
  },
  {
   "cell_type": "code",
   "execution_count": 21,
   "metadata": {},
   "outputs": [
    {
     "name": "stdout",
     "output_type": "stream",
     "text": [
      "Rounded to the nearest integer: 12\n",
      "Rounded to two decimal places: 12.35\n"
     ]
    }
   ],
   "source": [
    "value = 12.34567\n",
    "\n",
    "rounded_integer = round(value)\n",
    "\n",
    "rounded_two_decimal = round(value, 2)\n",
    "\n",
    "print(f\"Rounded to the nearest integer: {rounded_integer}\")\n",
    "print(f\"Rounded to two decimal places: {rounded_two_decimal}\")\n"
   ]
  }
 ],
 "metadata": {
  "kernelspec": {
   "display_name": "Python 3",
   "language": "python",
   "name": "python3"
  },
  "language_info": {
   "codemirror_mode": {
    "name": "ipython",
    "version": 3
   },
   "file_extension": ".py",
   "mimetype": "text/x-python",
   "name": "python",
   "nbconvert_exporter": "python",
   "pygments_lexer": "ipython3",
   "version": "3.12.4"
  }
 },
 "nbformat": 4,
 "nbformat_minor": 2
}
