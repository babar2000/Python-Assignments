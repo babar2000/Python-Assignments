{
 "cells": [
  {
   "cell_type": "markdown",
   "metadata": {},
   "source": [
    "1. **Add two numbers**\n"
   ]
  },
  {
   "cell_type": "code",
   "execution_count": 3,
   "metadata": {},
   "outputs": [
    {
     "name": "stdout",
     "output_type": "stream",
     "text": [
      "The sum of 1 and 8 is 9.\n"
     ]
    }
   ],
   "source": [
    "def get_integer_input(prompt):\n",
    "    while True:\n",
    "        try:\n",
    "            return int(input(prompt))\n",
    "        except ValueError:\n",
    "            print(\"Invalid input. Please enter an integer.\")\n",
    "\n",
    "\n",
    "num1 = get_integer_input(\"Enter the first number: \")\n",
    "\n",
    "num2 = get_integer_input(\"Enter the second number: \")\n",
    "\n",
    "total_sum = num1 + num2\n",
    "\n",
    "\n",
    "print(f\"The sum of {num1} and {num2} is {total_sum}.\")"
   ]
  },
  {
   "cell_type": "markdown",
   "metadata": {},
   "source": [
    "2. **Agreement Boot**\n"
   ]
  },
  {
   "cell_type": "code",
   "execution_count": 4,
   "metadata": {},
   "outputs": [
    {
     "name": "stdout",
     "output_type": "stream",
     "text": [
      "My favorite animal is also lion!\n"
     ]
    }
   ],
   "source": [
    "favorite_animal = input(\"What's your favorite animal? \")\n",
    "\n",
    "print(f\"My favorite animal is also {favorite_animal}!\")\n"
   ]
  },
  {
   "cell_type": "markdown",
   "metadata": {},
   "source": [
    "3. **Fahrenheit to Celsius**\n"
   ]
  },
  {
   "cell_type": "code",
   "execution_count": 9,
   "metadata": {},
   "outputs": [
    {
     "name": "stdout",
     "output_type": "stream",
     "text": [
      "Temperature: 120.0F = 48.888888888888886C\n"
     ]
    }
   ],
   "source": [
    "def fahrenheit_to_celsius(degrees_fahrenheit):\n",
    "    return (degrees_fahrenheit - 32) * 5.0 / 9.0\n",
    "\n",
    "degrees_fahrenheit = float(input(\"Enter temperature in Fahrenheit: \"))\n",
    "\n",
    "degrees_celsius = fahrenheit_to_celsius(degrees_fahrenheit)\n",
    "\n",
    "print(f\"Temperature: {degrees_fahrenheit}F = {degrees_celsius}C\")"
   ]
  },
  {
   "cell_type": "markdown",
   "metadata": {},
   "source": [
    "4. **Triangle Perimeters**\n"
   ]
  },
  {
   "cell_type": "code",
   "execution_count": 10,
   "metadata": {},
   "outputs": [
    {
     "name": "stdout",
     "output_type": "stream",
     "text": [
      "The perimeter of the triangle is 17.0\n"
     ]
    }
   ],
   "source": [
    "def get_side_length(prompt):\n",
    "    return float(input(prompt))\n",
    "\n",
    "side1 = get_side_length(\"What is the length of side 1? \")\n",
    "side2 = get_side_length(\"What is the length of side 2? \")\n",
    "side3 = get_side_length(\"What is the length of side 3? \")\n",
    "\n",
    "perimeter = side1 + side2 + side3\n",
    "\n",
    "print(f\"The perimeter of the triangle is {perimeter}\")"
   ]
  },
  {
   "cell_type": "markdown",
   "metadata": {},
   "source": [
    "5. **Square Number**\n"
   ]
  },
  {
   "cell_type": "code",
   "execution_count": 11,
   "metadata": {},
   "outputs": [
    {
     "name": "stdout",
     "output_type": "stream",
     "text": [
      "56.0 squared is 3136.0\n"
     ]
    }
   ],
   "source": [
    "number = float(input(\"Type a number to see its square: \"))\n",
    "\n",
    "square = number * number\n",
    "\n",
    "print(f\"{number} squared is {square}\")"
   ]
  },
  {
   "cell_type": "markdown",
   "metadata": {},
   "source": [
    "6. **Delete a number**\n"
   ]
  },
  {
   "cell_type": "code",
   "execution_count": 12,
   "metadata": {},
   "outputs": [
    {
     "name": "stdout",
     "output_type": "stream",
     "text": [
      "[1, 2, 4, 5]\n"
     ]
    }
   ],
   "source": [
    "numbers = [1, 2, 3, 4, 5]\n",
    "\n",
    "numbers.remove(3)\n",
    "\n",
    "print(numbers)"
   ]
  },
  {
   "cell_type": "markdown",
   "metadata": {},
   "source": [
    "7. **Creating a list**\n"
   ]
  },
  {
   "cell_type": "code",
   "execution_count": 13,
   "metadata": {},
   "outputs": [
    {
     "name": "stdout",
     "output_type": "stream",
     "text": [
      "[1, 2, 3, 4, 5, 6]\n"
     ]
    }
   ],
   "source": [
    "list1 = [1, 2, 3]\n",
    "list2 = [4, 5, 6]\n",
    "\n",
    "list1.extend(list2)\n",
    "\n",
    "print(list1)"
   ]
  },
  {
   "cell_type": "markdown",
   "metadata": {},
   "source": [
    "8. **Pop method**\n"
   ]
  },
  {
   "cell_type": "code",
   "execution_count": 14,
   "metadata": {},
   "outputs": [
    {
     "name": "stdout",
     "output_type": "stream",
     "text": [
      "[10, 20, 30]\n",
      "40\n"
     ]
    }
   ],
   "source": [
    "items = [10, 20, 30, 40]\n",
    "\n",
    "removed_item = items.pop()\n",
    "\n",
    "print(items)         \n",
    "print(removed_item)  "
   ]
  },
  {
   "cell_type": "markdown",
   "metadata": {},
   "source": [
    "9. **Index Method**\n"
   ]
  },
  {
   "cell_type": "code",
   "execution_count": 16,
   "metadata": {},
   "outputs": [
    {
     "name": "stdout",
     "output_type": "stream",
     "text": [
      "2\n"
     ]
    }
   ],
   "source": [
    "colors = ['red', 'blue', 'green', 'yellow']\n",
    "\n",
    "index_of_green = colors.index('green')\n",
    "\n",
    "print(index_of_green)"
   ]
  },
  {
   "cell_type": "markdown",
   "metadata": {},
   "source": [
    "10. **Get last element**\n"
   ]
  },
  {
   "cell_type": "code",
   "execution_count": 17,
   "metadata": {},
   "outputs": [
    {
     "name": "stdout",
     "output_type": "stream",
     "text": [
      "5\n"
     ]
    }
   ],
   "source": [
    "def get_last_element(lst):\n",
    "        print(lst[-1])\n",
    "\n",
    "example_list = [1, 2, 3, 4, 5]\n",
    "get_last_element(example_list)\n"
   ]
  },
  {
   "cell_type": "markdown",
   "metadata": {},
   "source": [
    "11. **Get a List**\n"
   ]
  },
  {
   "cell_type": "code",
   "execution_count": 20,
   "metadata": {},
   "outputs": [
    {
     "name": "stdout",
     "output_type": "stream",
     "text": [
      "Here's the list: ['1', '2']\n"
     ]
    }
   ],
   "source": [
    "values = []\n",
    "\n",
    "while True:\n",
    "    value = input(\"Enter a value: \")\n",
    "    \n",
    "    if value == \"\":\n",
    "        break\n",
    "    \n",
    "    values.append(value)\n",
    "\n",
    "print(f\"Here's the list: {values}\")"
   ]
  }
 ],
 "metadata": {
  "kernelspec": {
   "display_name": "Python 3",
   "language": "python",
   "name": "python3"
  },
  "language_info": {
   "codemirror_mode": {
    "name": "ipython",
    "version": 3
   },
   "file_extension": ".py",
   "mimetype": "text/x-python",
   "name": "python",
   "nbconvert_exporter": "python",
   "pygments_lexer": "ipython3",
   "version": "3.12.4"
  }
 },
 "nbformat": 4,
 "nbformat_minor": 2
}
