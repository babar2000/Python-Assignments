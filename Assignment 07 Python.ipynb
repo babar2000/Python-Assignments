{
 "cells": [
  {
   "cell_type": "markdown",
   "metadata": {},
   "source": [
    "You are tasked with creating a Python program that serves as an interactive tool for a friend who enjoys exploring numbers. The program should begin by prompting the user to enter their name and then ask them for three of their favorite numbers. After gathering this information, the program should greet the user with a personalized message that includes their name. The three numbers provided by the user should be stored in a list. The program should then check if any of the numbers are even or odd, and store this information in a separate list of tuples, where each tuple contains the number and a string indicating whether it is \"even\" or \"odd\". Following this, the program should use a for loop to iterate over the list of numbers, and for each number, it should create a tuple containing the number and its square. These tuples should be printed in a creative and engaging format. Additionally, the program should calculate the sum of the three numbers and print the result, accompanied by an encouraging message. Finally, the program should determine if the sum is a prime number and notify the user with an appropriate message. The goal is to make the tool both enjoyable and informative, allowing the user to explore their favorite numbers in a fun and interactive way, while also introducing some interesting logical checks.\n"
   ]
  },
  {
   "cell_type": "code",
   "execution_count": 1,
   "metadata": {},
   "outputs": [
    {
     "name": "stdout",
     "output_type": "stream",
     "text": [
      "Nice to meet you, zain! Please tell me three of your favorite numbers.\n",
      "\n",
      "Thanks, zain! Let's explore your favorite numbers.\n",
      "\n",
      "Here’s what I found about your numbers:\n",
      " - 7 is odd.\n",
      " - 9 is odd.\n",
      " - 3 is odd.\n",
      "\n",
      "Let’s see how your numbers look when squared:\n",
      " - 7 squared is 49.\n",
      " - 9 squared is 81.\n",
      " - 3 squared is 9.\n",
      "\n",
      "The sum of your favorite numbers is 19. That's awesome!\n",
      "By the way, 19 is a prime number! Pretty cool!\n"
     ]
    }
   ],
   "source": [
    "def is_prime(num):\n",
    "    if num < 2:\n",
    "        return False\n",
    "    for i in range(2, int(num**0.5) + 1):\n",
    "        if num % i == 0:\n",
    "            return False\n",
    "    return True\n",
    "\n",
    "def main():\n",
    "    name = input(\"Hello! What's your name? \")\n",
    "\n",
    "    print(f\"Nice to meet you, {name}! Please tell me three of your favorite numbers.\")\n",
    "    numbers = []\n",
    "    for i in range(3):\n",
    "        number = int(input(f\"Enter favorite number {i+1}: \"))\n",
    "        numbers.append(number)\n",
    "    \n",
    "    print(f\"\\nThanks, {name}! Let's explore your favorite numbers.\")\n",
    "\n",
    "    even_odd_list = [(num, \"even\" if num % 2 == 0 else \"odd\") for num in numbers]\n",
    "\n",
    "    print(\"\\nHere’s what I found about your numbers:\")\n",
    "    for num, even_odd in even_odd_list:\n",
    "        print(f\" - {num} is {even_odd}.\")\n",
    "\n",
    "    print(\"\\nLet’s see how your numbers look when squared:\")\n",
    "    for num in numbers:\n",
    "        square = num ** 2\n",
    "        print(f\" - {num} squared is {square}.\")\n",
    "\n",
    "    total_sum = sum(numbers)\n",
    "    print(f\"\\nThe sum of your favorite numbers is {total_sum}. That's awesome!\")\n",
    "\n",
    "    if is_prime(total_sum):\n",
    "        print(f\"By the way, {total_sum} is a prime number! Pretty cool!\")\n",
    "    else:\n",
    "        print(f\"{total_sum} is not a prime number, but it's still a great number!\")\n",
    "\n",
    "if __name__ == \"__main__\":\n",
    "    main()\n"
   ]
  }
 ],
 "metadata": {
  "kernelspec": {
   "display_name": "Python 3",
   "language": "python",
   "name": "python3"
  },
  "language_info": {
   "codemirror_mode": {
    "name": "ipython",
    "version": 3
   },
   "file_extension": ".py",
   "mimetype": "text/x-python",
   "name": "python",
   "nbconvert_exporter": "python",
   "pygments_lexer": "ipython3",
   "version": "3.12.4"
  }
 },
 "nbformat": 4,
 "nbformat_minor": 2
}
